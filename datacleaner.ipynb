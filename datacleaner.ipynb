{
  "nbformat": 4,
  "nbformat_minor": 0,
  "metadata": {
    "colab": {
      "name": "datacleaner.ipynb",
      "provenance": []
    },
    "kernelspec": {
      "name": "python3",
      "display_name": "Python 3"
    },
    "language_info": {
      "name": "python"
    }
  },
  "cells": [
    {
      "cell_type": "code",
      "metadata": {
        "colab": {
          "base_uri": "https://localhost:8080/"
        },
        "id": "_XJSc8oQep3X",
        "outputId": "24879176-ac13-4f1a-e493-e888e88c5c01"
      },
      "source": [
        "from google.colab import  drive\n",
        "drive.mount('/content/drive')"
      ],
      "execution_count": 1,
      "outputs": [
        {
          "output_type": "stream",
          "text": [
            "Mounted at /content/drive\n"
          ],
          "name": "stdout"
        }
      ]
    },
    {
      "cell_type": "code",
      "metadata": {
        "id": "Wig3riEqe6ao"
      },
      "source": [
        "import re"
      ],
      "execution_count": 2,
      "outputs": []
    },
    {
      "cell_type": "code",
      "metadata": {
        "id": "l1lWGxFQ6wyD"
      },
      "source": [
        "article = open('/content/drive/MyDrive/article2020_3.txt', 'r')\n",
        "\n",
        "summary = open('/content/drive/MyDrive/summary2020_3.txt', 'r')"
      ],
      "execution_count": 20,
      "outputs": []
    },
    {
      "cell_type": "code",
      "metadata": {
        "id": "jZAZyWo27HtM"
      },
      "source": [
        "pattern = r\"[(A-Z)|(a-z)|(0-9)|\\-|!|;|.|‘|’|'|/]+\"\n",
        "lines1 = [re.sub(pattern,'', l)for l in article]\n",
        "lines1 = [l.strip() for l in lines1]"
      ],
      "execution_count": 21,
      "outputs": []
    },
    {
      "cell_type": "code",
      "metadata": {
        "id": "f2rwdLB-81tZ"
      },
      "source": [
        "pattern = r\"[(A-Z)|(a-z)|(0-9)|\\-|!|;|.|‘|’|'|/]+\"\n",
        "lines2 = [re.sub(pattern,'', l)for l in summary]\n",
        "lines2 = [l.strip() for l in lines2]"
      ],
      "execution_count": 22,
      "outputs": []
    },
    {
      "cell_type": "code",
      "metadata": {
        "colab": {
          "base_uri": "https://localhost:8080/"
        },
        "id": "aPXIR2OQ9EEt",
        "outputId": "c36af1c5-d036-45af-bf94-4e6845bf6128"
      },
      "source": [
        "\n",
        "\n",
        "print(len(lines1))"
      ],
      "execution_count": 23,
      "outputs": [
        {
          "output_type": "stream",
          "text": [
            "7062\n"
          ],
          "name": "stdout"
        }
      ]
    },
    {
      "cell_type": "code",
      "metadata": {
        "colab": {
          "base_uri": "https://localhost:8080/"
        },
        "id": "8bED9bVc9IZH",
        "outputId": "b831ac5b-387d-405d-bc02-b99584ee948c"
      },
      "source": [
        "print(len(lines2))"
      ],
      "execution_count": 24,
      "outputs": [
        {
          "output_type": "stream",
          "text": [
            "7062\n"
          ],
          "name": "stdout"
        }
      ]
    },
    {
      "cell_type": "code",
      "metadata": {
        "id": "PiaiAslA9Spa"
      },
      "source": [
        "\n"
      ],
      "execution_count": 19,
      "outputs": []
    },
    {
      "cell_type": "code",
      "metadata": {
        "id": "nm0xnR52-2OY"
      },
      "source": [
        "def analysis(inputfile,outputfile):\n",
        "  maxfrequency = 0\n",
        "  minfrequency = 100000\n",
        "  count = 0\n",
        "  distword = set([])\n",
        "  linelenthnum = dict([])\n",
        "  totalwords = 0\n",
        "  # for i in range(1,200,1):\n",
        "  #   print(i)\n",
        "  #   linelenthnum[i]=0\n",
        "\n",
        "  with open(inputfile, 'r') as inputf:\n",
        "    Lines = inputf.readlines()\n",
        "    totsllines = len(Lines) \n",
        "  \n",
        "\n",
        "  for line in Lines:\n",
        "    count +=1\n",
        "    words = re.split('|',line)\n",
        "\n",
        "    maxfrequency = max(len(words),maxfrequency)\n",
        "    minfrequency = min(len(words),minfrequency)\n",
        "\n",
        "    #\n",
        "    #linelenthnum[len(words)]+=1\n",
        "\n",
        "    totalwords+=len(words)\n",
        "\n",
        "    for word in words:\n",
        "      distword.add(word)\n",
        "\n",
        "\n",
        "  with open(outputfile, 'w') as outputf :\n",
        "\n",
        "    outputf.write(\"Total lines: \")\n",
        "    outputf.write(str(totsllines))\n",
        "    outputf.write('\\n')\n",
        "\n",
        "\n",
        "    outputf.write(\"Total words: \")\n",
        "    outputf.write(str(totalwords))\n",
        "    outputf.write('\\n')\n",
        "\n",
        "    outputf.write(\"Minimum line length: \")\n",
        "    outputf.write(str(minfrequency))\n",
        "    outputf.write('\\n')\n",
        "\n",
        "    outputf.write(\"Maximum line lenth: \")\n",
        "    outputf.write(str(maxfrequency))\n",
        "    outputf.write('\\n')\n",
        "\n",
        "    outputf.write(\"Single word: \")\n",
        "    outputf.write(str(len(distword)))\n",
        "    outputf.write('\\n')\n",
        "\n",
        "\n",
        "\n",
        "    outputf.write(\"Line lenth frequency: \")\n",
        "    \n",
        "    outputf.write('\\n')\n",
        "\n",
        "\n",
        "    # for i in range(1,100,1):\n",
        "    #   outputf.write(str(i))\n",
        "    #   outputf.write(\" : \")\n",
        "    #   outputf.write(str(linelenthnum[i]))\n",
        "    #   outputf.write(\"\\n\")\n",
        "\n",
        "    outputf.close()\n",
        "\n",
        "  \n",
        "\n",
        "  inputf.close()\n"
      ],
      "execution_count": 45,
      "outputs": []
    },
    {
      "cell_type": "code",
      "metadata": {
        "id": "HTCVHfFZG_d7"
      },
      "source": [
        "analysis(\"/content/drive/MyDrive/article2020_3.txt\", \"articleanalysis.txt\")"
      ],
      "execution_count": 48,
      "outputs": []
    },
    {
      "cell_type": "code",
      "metadata": {
        "id": "ZgK7EDHUHQYC"
      },
      "source": [
        "analysis(\"/content/drive/MyDrive/summary2020_3.txt\", \"summary.txt\")"
      ],
      "execution_count": 47,
      "outputs": []
    },
    {
      "cell_type": "code",
      "metadata": {
        "id": "BBJrzd5ZJ2Hh"
      },
      "source": [
        ""
      ],
      "execution_count": null,
      "outputs": []
    }
  ]
}